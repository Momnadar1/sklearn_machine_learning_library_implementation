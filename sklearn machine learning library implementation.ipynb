{
 "cells": [
  {
   "cell_type": "code",
   "execution_count": 3,
   "metadata": {},
   "outputs": [
    {
     "name": "stdout",
     "output_type": "stream",
     "text": [
      "Accuracy NB:  0.8314176245210728\n",
      "Accuracy score: 0.831417624521\n",
      "Precision score: [0.91111111 0.8839779  0.73300971]\n",
      "Recall score: [0.75460123 0.83333333 0.90419162]\n",
      "F1 score: [0.82550336 0.85790885 0.80965147]\n"
     ]
    }
   ],
   "source": [
    "### this is code to generate corpus\n",
    "import csv\n",
    "replace=\"\"\n",
    "list = []\n",
    "j=0\n",
    "with open('single_file_of_three_authors.csv', 'w') as file:\n",
    "    writer = csv.writer(file)\n",
    "    writer.writerow([\"label\", \"misra\"])\n",
    "    while(j<3):\n",
    "       \n",
    "        if(j==0):\n",
    "            replace=\"asad\"\n",
    "        if(j==1):\n",
    "            replace=\"ghalib\"\n",
    "        if(j==2):\n",
    "            replace=\"akhtar\"\n",
    "        i=0\n",
    "        f= open(replace+'.txt', 'r')\n",
    "\n",
    "        \n",
    "        for line in f:\n",
    "            line.strip()\n",
    "            if(line!='\\n'):\n",
    "                writer.writerow([replace,line])\n",
    "    \n",
    "    \n",
    "        j+=1\n",
    "\n",
    "f.close()\n",
    "### this is code to generate dataframe\n",
    "import  pandas as pd\n",
    "df_misra = pd.read_csv('single_file_of_three_authors.csv',encoding='utf-8')\n",
    "df_misra.head()\n",
    "### this is code to clean dataframe\n",
    "i=0\n",
    "X = []\n",
    "Y = []\n",
    "while i < len(df_misra):\n",
    "    X.append( (df_misra['misra'][i]))\n",
    "    if(df_misra['label'][i]=='asad'):\n",
    "        Y.append('0')\n",
    "    if(df_misra['label'][i]=='ghalib'):\n",
    "        Y.append('1')\n",
    "    if(df_misra['label'][i]=='akhtar'):\n",
    "        Y.append('2')\n",
    "    i+=1\n",
    "\n",
    "    \n",
    "### this is code to split dataset\n",
    "\n",
    "from sklearn.model_selection import train_test_split\n",
    "\n",
    "X_train, X_test, y_train, y_test = train_test_split(X, \n",
    "                                                    Y,test_size=0.20, \n",
    "                                                    random_state=1)\n",
    "\n",
    "### this is code to import MN_Naive_Bayes and execte on dataset\n",
    "\n",
    "from sklearn.feature_extraction.text import CountVectorizer\n",
    "from sklearn.naive_bayes import MultinomialNB\n",
    "from sklearn.pipeline import Pipeline\n",
    "from sklearn.feature_extraction.text import TfidfTransformer\n",
    "import numpy as np\n",
    "\n",
    "text_clf_NB = Pipeline([('vect', CountVectorizer()),('tfidf', TfidfTransformer()),('clf', MultinomialNB()),])\n",
    "text_clf_NB.fit(X_train, y_train)\n",
    "predicted = text_clf_NB.predict(X_test)\n",
    "\n",
    "### this is code to show scores\n",
    "\n",
    "print \"Accuracy NB: \",np.mean(predicted == y_test)\n",
    "\n",
    "from sklearn.metrics import accuracy_score, precision_score, recall_score, f1_score\n",
    "print('Accuracy score: {}'.format(accuracy_score(y_test, predicted)))\n",
    "print('Precision score: {}'.format(precision_score(y_test, predicted, average=None)))\n",
    "print('Recall score: {}'.format(recall_score(y_test, predicted, average=None)))\n",
    "print('F1 score: {}'.format(f1_score(y_test, predicted, average=None)))"
   ]
  },
  {
   "cell_type": "code",
   "execution_count": null,
   "metadata": {},
   "outputs": [],
   "source": []
  }
 ],
 "metadata": {
  "kernelspec": {
   "display_name": "Python 2",
   "language": "python",
   "name": "python2"
  },
  "language_info": {
   "codemirror_mode": {
    "name": "ipython",
    "version": 2
   },
   "file_extension": ".py",
   "mimetype": "text/x-python",
   "name": "python",
   "nbconvert_exporter": "python",
   "pygments_lexer": "ipython2",
   "version": "2.7.16"
  }
 },
 "nbformat": 4,
 "nbformat_minor": 2
}
